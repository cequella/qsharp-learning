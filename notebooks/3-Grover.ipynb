{
 "cells": [
  {
   "cell_type": "code",
   "execution_count": 1,
   "id": "4d491f3b",
   "metadata": {},
   "outputs": [
    {
     "data": {
      "application/javascript": "// Copyright (c) Microsoft Corporation.\n// Licensed under the MIT License.\n\n// This file provides CodeMirror syntax highlighting for Q# magic cells\n// in classic Jupyter Notebooks. It does nothing in other (Jupyter Notebook 7,\n// VS Code, Azure Notebooks, etc.) environments.\n\n// Detect the prerequisites and do nothing if they don't exist.\nif (window.require && window.CodeMirror && window.Jupyter) {\n  // The simple mode plugin for CodeMirror is not loaded by default, so require it.\n  window.require([\"codemirror/addon/mode/simple\"], function defineMode() {\n    let rules = [\n      {\n        token: \"comment\",\n        regex: /(\\/\\/).*/,\n        beginWord: false,\n      },\n      {\n        token: \"string\",\n        regex: String.raw`^\\\"(?:[^\\\"\\\\]|\\\\[\\s\\S])*(?:\\\"|$)`,\n        beginWord: false,\n      },\n      {\n        token: \"keyword\",\n        regex: String.raw`(namespace|open|as|operation|function|body|adjoint|newtype|controlled|internal)\\b`,\n        beginWord: true,\n      },\n      {\n        token: \"keyword\",\n        regex: String.raw`(if|elif|else|repeat|until|fixup|for|in|return|fail|within|apply)\\b`,\n        beginWord: true,\n      },\n      {\n        token: \"keyword\",\n        regex: String.raw`(Adjoint|Controlled|Adj|Ctl|is|self|auto|distribute|invert|intrinsic)\\b`,\n        beginWord: true,\n      },\n      {\n        token: \"keyword\",\n        regex: String.raw`(let|set|use|borrow|mutable)\\b`,\n        beginWord: true,\n      },\n      {\n        token: \"operatorKeyword\",\n        regex: String.raw`(not|and|or)\\b|(w/)`,\n        beginWord: true,\n      },\n      {\n        token: \"operatorKeyword\",\n        regex: String.raw`(=)|(!)|(<)|(>)|(\\+)|(-)|(\\*)|(/)|(\\^)|(%)|(\\|)|(&&&)|(~~~)|(\\.\\.\\.)|(\\.\\.)|(\\?)`,\n        beginWord: false,\n      },\n      {\n        token: \"meta\",\n        regex: String.raw`(Int|BigInt|Double|Bool|Qubit|Pauli|Result|Range|String|Unit)\\b`,\n        beginWord: true,\n      },\n      {\n        token: \"atom\",\n        regex: String.raw`(true|false|Pauli(I|X|Y|Z)|One|Zero)\\b`,\n        beginWord: true,\n      },\n    ];\n    let simpleRules = [];\n    for (let rule of rules) {\n      simpleRules.push({\n        token: rule.token,\n        regex: new RegExp(rule.regex, \"g\"),\n        sol: rule.beginWord,\n      });\n      if (rule.beginWord) {\n        // Need an additional rule due to the fact that CodeMirror simple mode doesn't work with ^ token\n        simpleRules.push({\n          token: rule.token,\n          regex: new RegExp(String.raw`\\W` + rule.regex, \"g\"),\n          sol: false,\n        });\n      }\n    }\n\n    // Register the mode defined above with CodeMirror\n    window.CodeMirror.defineSimpleMode(\"qsharp\", { start: simpleRules });\n    window.CodeMirror.defineMIME(\"text/x-qsharp\", \"qsharp\");\n\n    // Tell Jupyter to associate %%qsharp magic cells with the qsharp mode\n    window.Jupyter.CodeCell.options_default.highlight_modes[\"qsharp\"] = {\n      reg: [/^%%qsharp/],\n    };\n\n    // Force re-highlighting of all cells the first time this code runs\n    for (const cell of window.Jupyter.notebook.get_cells()) {\n      cell.auto_highlight();\n    }\n  });\n}\n",
      "text/plain": []
     },
     "metadata": {},
     "output_type": "display_data"
    },
    {
     "name": "stdout",
     "output_type": "stream",
     "text": [
      "Optimal number of iterations for Grover's algorithm with 5 qubits and 1 marked items: 4\n"
     ]
    }
   ],
   "source": [
    "import qsharp\n",
    "import math\n",
    "\n",
    "n = 5 # amount of qubits\n",
    "m = 1 # number of marked items\n",
    "optimalIterations = (math.pi / 4) * math.sqrt(math.pow(2, n)/m)\n",
    "optimalIterations = math.floor(optimalIterations)\n",
    "\n",
    "print(\"Optimal number of iterations for Grover's algorithm with {} qubits and {} marked items: {}\".format(n, m, optimalIterations))"
   ]
  },
  {
   "cell_type": "code",
   "execution_count": 2,
   "id": "e572032e",
   "metadata": {
    "vscode": {
     "languageId": "qsharp"
    }
   },
   "outputs": [
    {
     "data": {
      "text/plain": [
       "Running Grover's algorithm with 5 qubits and 4 iterations..."
      ]
     },
     "metadata": {},
     "output_type": "display_data"
    },
    {
     "data": {},
     "metadata": {},
     "output_type": "display_data"
    },
    {
     "data": {
      "text/plain": [
       "Reflecting about marked state..."
      ]
     },
     "metadata": {},
     "output_type": "display_data"
    },
    {
     "data": {},
     "metadata": {},
     "output_type": "display_data"
    },
    {
     "data": {
      "text/plain": [
       "Reflecting about marked state..."
      ]
     },
     "metadata": {},
     "output_type": "display_data"
    },
    {
     "data": {},
     "metadata": {},
     "output_type": "display_data"
    },
    {
     "data": {
      "text/plain": [
       "Reflecting about marked state..."
      ]
     },
     "metadata": {},
     "output_type": "display_data"
    },
    {
     "data": {},
     "metadata": {},
     "output_type": "display_data"
    },
    {
     "data": {
      "text/plain": [
       "Reflecting about marked state..."
      ]
     },
     "metadata": {},
     "output_type": "display_data"
    },
    {
     "data": {},
     "metadata": {},
     "output_type": "display_data"
    },
    {
     "data": {
      "text/plain": [
       "'01010'"
      ]
     },
     "execution_count": 2,
     "metadata": {},
     "output_type": "execute_result"
    }
   ],
   "source": [
    "%%qsharp\n",
    "import Microsoft.Quantum.Convert.*;\n",
    "import Microsoft.Quantum.Math.*;\n",
    "import Microsoft.Quantum.Arrays.*;\n",
    "import Microsoft.Quantum.Measurement.*;\n",
    "import Microsoft.Quantum.Diagnostics.*;\n",
    "\n",
    "operation Run(nQubits: Int, iterations: Int) : String {\n",
    "    Message($\"Running Grover's algorithm with {nQubits} qubits and {iterations} iterations...\");\n",
    "\n",
    "    let results = GroverSearch(nQubits, iterations, CustomOracle);\n",
    "    return ResultArrayToString(results);\n",
    "}\n",
    "\n",
    "operation GroverSearch(\n",
    "    nQubits : Int,\n",
    "    iterations : Int,\n",
    "    phaseOracle : Qubit[] => Unit\n",
    ") : Result[] {\n",
    "\n",
    "    use qubits = Qubit[nQubits];\n",
    "\n",
    "    PrepareUniform(qubits);\n",
    "\n",
    "    for _ in 1..iterations {\n",
    "        phaseOracle(qubits);\n",
    "        ReflectAboutUniform(qubits);\n",
    "    }\n",
    "\n",
    "    // Measure and return the answer.\n",
    "    return MResetEachZ(qubits);\n",
    "}\n",
    "\n",
    "operation CustomOracle(inputQubits : Qubit[]) : Unit {\n",
    "    Message(\"Reflecting about marked state...\");\n",
    "    use outputQubit = Qubit();\n",
    "    within {\n",
    "        X(outputQubit);\n",
    "        H(outputQubit);\n",
    "        for q in inputQubits[...2...] {\n",
    "            X(q);\n",
    "        }\n",
    "    } apply {\n",
    "        Controlled X(inputQubits, outputQubit);\n",
    "    }\n",
    "}\n",
    "\n",
    "operation PrepareUniform(inputQubits : Qubit[]) : Unit is Adj + Ctl {\n",
    "    for q in inputQubits {\n",
    "        H(q);\n",
    "    }\n",
    "}\n",
    "\n",
    "operation ReflectAboutAllOnes(inputQubits : Qubit[]) : Unit {\n",
    "    Controlled Z(Most(inputQubits), Tail(inputQubits));\n",
    "}\n",
    "\n",
    "operation ReflectAboutUniform(inputQubits : Qubit[]) : Unit {\n",
    "    within {\n",
    "        Adjoint PrepareUniform(inputQubits);\n",
    "        for q in inputQubits {\n",
    "            X(q);\n",
    "        }\n",
    "    } apply {\n",
    "        ReflectAboutAllOnes(inputQubits);\n",
    "    }\n",
    "}\n",
    "\n",
    "function ResultArrayToString(results : Result[]) : String {\n",
    "    mutable str = \"\";\n",
    "    for r in results {\n",
    "        set str += r == One ? \"1\" | \"0\";\n",
    "    }\n",
    "    return str;\n",
    "}\n",
    "\n",
    "Run(5, 4);"
   ]
  },
  {
   "cell_type": "code",
   "execution_count": null,
   "id": "f7ba06e8",
   "metadata": {},
   "outputs": [
    {
     "name": "stdout",
     "output_type": "stream",
     "text": [
      "<Global> <item 0 in package 3>\n"
     ]
    }
   ],
   "source": [
    "results = qsharp.run(\"Run\", n, optimalIterations)\n",
    "print(results)"
   ]
  }
 ],
 "metadata": {
  "kernelspec": {
   "display_name": "qsharplearn",
   "language": "python",
   "name": "python3"
  },
  "language_info": {
   "codemirror_mode": {
    "name": "ipython",
    "version": 3
   },
   "file_extension": ".py",
   "mimetype": "text/x-python",
   "name": "python",
   "nbconvert_exporter": "python",
   "pygments_lexer": "ipython3",
   "version": "3.11.1"
  }
 },
 "nbformat": 4,
 "nbformat_minor": 5
}
