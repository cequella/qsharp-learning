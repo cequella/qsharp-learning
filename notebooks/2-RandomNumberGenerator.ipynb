{
 "cells": [
  {
   "cell_type": "markdown",
   "id": "3dbe46a4",
   "metadata": {},
   "source": [
    "# Quantic random number generator"
   ]
  },
  {
   "cell_type": "markdown",
   "id": "8588b3f0",
   "metadata": {},
   "source": [
    "This is a simple Q# program that creates a random number generator using quantum mechanics principles. \n",
    "\n",
    "Classical computers cannot really generate a random number. It's always a pseudo-random generator machine, that uses some operations over a seed (usually the clock, or something else).\n",
    "\n",
    "But quantum computers can create **REAL** random numbers using quantum mechanics principles. \n",
    "\n",
    "Let's start our dependencies:"
   ]
  },
  {
   "cell_type": "code",
   "execution_count": 2,
   "id": "d3f69cd1",
   "metadata": {},
   "outputs": [
    {
     "data": {
      "application/javascript": "// Copyright (c) Microsoft Corporation.\n// Licensed under the MIT License.\n\n// This file provides CodeMirror syntax highlighting for Q# magic cells\n// in classic Jupyter Notebooks. It does nothing in other (Jupyter Notebook 7,\n// VS Code, Azure Notebooks, etc.) environments.\n\n// Detect the prerequisites and do nothing if they don't exist.\nif (window.require && window.CodeMirror && window.Jupyter) {\n  // The simple mode plugin for CodeMirror is not loaded by default, so require it.\n  window.require([\"codemirror/addon/mode/simple\"], function defineMode() {\n    let rules = [\n      {\n        token: \"comment\",\n        regex: /(\\/\\/).*/,\n        beginWord: false,\n      },\n      {\n        token: \"string\",\n        regex: String.raw`^\\\"(?:[^\\\"\\\\]|\\\\[\\s\\S])*(?:\\\"|$)`,\n        beginWord: false,\n      },\n      {\n        token: \"keyword\",\n        regex: String.raw`(namespace|open|as|operation|function|body|adjoint|newtype|controlled|internal)\\b`,\n        beginWord: true,\n      },\n      {\n        token: \"keyword\",\n        regex: String.raw`(if|elif|else|repeat|until|fixup|for|in|return|fail|within|apply)\\b`,\n        beginWord: true,\n      },\n      {\n        token: \"keyword\",\n        regex: String.raw`(Adjoint|Controlled|Adj|Ctl|is|self|auto|distribute|invert|intrinsic)\\b`,\n        beginWord: true,\n      },\n      {\n        token: \"keyword\",\n        regex: String.raw`(let|set|use|borrow|mutable)\\b`,\n        beginWord: true,\n      },\n      {\n        token: \"operatorKeyword\",\n        regex: String.raw`(not|and|or)\\b|(w/)`,\n        beginWord: true,\n      },\n      {\n        token: \"operatorKeyword\",\n        regex: String.raw`(=)|(!)|(<)|(>)|(\\+)|(-)|(\\*)|(/)|(\\^)|(%)|(\\|)|(&&&)|(~~~)|(\\.\\.\\.)|(\\.\\.)|(\\?)`,\n        beginWord: false,\n      },\n      {\n        token: \"meta\",\n        regex: String.raw`(Int|BigInt|Double|Bool|Qubit|Pauli|Result|Range|String|Unit)\\b`,\n        beginWord: true,\n      },\n      {\n        token: \"atom\",\n        regex: String.raw`(true|false|Pauli(I|X|Y|Z)|One|Zero)\\b`,\n        beginWord: true,\n      },\n    ];\n    let simpleRules = [];\n    for (let rule of rules) {\n      simpleRules.push({\n        token: rule.token,\n        regex: new RegExp(rule.regex, \"g\"),\n        sol: rule.beginWord,\n      });\n      if (rule.beginWord) {\n        // Need an additional rule due to the fact that CodeMirror simple mode doesn't work with ^ token\n        simpleRules.push({\n          token: rule.token,\n          regex: new RegExp(String.raw`\\W` + rule.regex, \"g\"),\n          sol: false,\n        });\n      }\n    }\n\n    // Register the mode defined above with CodeMirror\n    window.CodeMirror.defineSimpleMode(\"qsharp\", { start: simpleRules });\n    window.CodeMirror.defineMIME(\"text/x-qsharp\", \"qsharp\");\n\n    // Tell Jupyter to associate %%qsharp magic cells with the qsharp mode\n    window.Jupyter.CodeCell.options_default.highlight_modes[\"qsharp\"] = {\n      reg: [/^%%qsharp/],\n    };\n\n    // Force re-highlighting of all cells the first time this code runs\n    for (const cell of window.Jupyter.notebook.get_cells()) {\n      cell.auto_highlight();\n    }\n  });\n}\n",
      "text/plain": []
     },
     "metadata": {},
     "output_type": "display_data"
    }
   ],
   "source": [
    "# Import the necessary libraries\n",
    "\n",
    "import qsharp"
   ]
  },
  {
   "cell_type": "markdown",
   "id": "e081d68f",
   "metadata": {},
   "source": [
    "Now, a number is (computationally) represented by an \"bit-array\". \n",
    "\n",
    "Usually, an 'Int' number is WORD sized, i.e. 16 bits. And a 'Long' is DWORD sized, i.e. 32 bits.\n",
    "\n",
    "A bit assumes values 0 or 1. It will always be a 0-bit, or a 1-bit. \n",
    "\n",
    "When a bit is a 0-bit, it is 100% sure this is not a 1-bit. The same when a bit is a 1-bit, it is 100% sure it is not a 0-bit.\n",
    "\n",
    "But a **qubit** can assume 0-bit and 1-bit states in superposition. So, when the **qubit** wave function collapses, it has a probability to assume 0-bit or a 1-bit state.\n",
    "\n",
    "So, our qubit wave function looks like something like this:\n",
    "\n",
    "$$\n",
    "    |\\psi\\rangle = \\alpha |0 \\rangle + \\beta |0 \\rangle\n",
    "$$\n",
    "\n",
    "Where\n",
    "\n",
    "$$\n",
    "    |\\alpha|^2 + |\\beta|^2 = 1\n",
    "$$\n",
    "\n",
    "So, a wave function of a qubit has α² of probability collapse to a 0-bit, and β² of probability to collapse to a 1-bit.\n",
    "\n",
    "Using a **Hadamard gate**, a qubit has equal probabilites to collapse to a 0-bit or a 1-bit. \n",
    "\n",
    "So, collapsing a qubit we have a bit... And collapsing 16 qubits, we will have 16 bits (a WORD). But a simple qubit is very expensive. So, we will use the same qubit to gen every single bit of the random number."
   ]
  },
  {
   "cell_type": "code",
   "execution_count": null,
   "id": "85c1180c",
   "metadata": {
    "vscode": {
     "languageId": "qsharp"
    }
   },
   "outputs": [],
   "source": [
    "%%qsharp\n",
    "\n",
    "import Std.Convert.ResultArrayAsInt;\n",
    "import Microsoft.Quantum.Convert.*;\n",
    "\n",
    "operation genRandomBit(): Result {\n",
    "\tuse q = Qubit();   // Declare a qubit initialized with |0>\n",
    "\tH(q);              // Put the qubit in superposition\n",
    "\tlet result = M(q); // Measure the qubit (will collapse to a 0-bit or 1-bit with equal probability)\n",
    "\tReset(q);          // Reset the qubit to |0>\n",
    "\n",
    "\treturn result;\n",
    "}\n",
    "\n",
    "operation Main(): Int {\n",
    "\t\n",
    "\tmutable result = [];            // Initialize an integer to store the random number\n",
    "\tfor index in 0..16 {            // Gen 16 bits\n",
    "\t\tresult += [genRandomBit()]; // Generate a random bit and append it to the result\n",
    "\t}\n",
    "\n",
    "\treturn ResultArrayAsInt(result); // Return the generated random number\n",
    "}\n"
   ]
  },
  {
   "cell_type": "markdown",
   "id": "354e50a0",
   "metadata": {},
   "source": [
    "Now, I will call it to generate an array of 10 (shots) random 16-bits numbers and print the result."
   ]
  },
  {
   "cell_type": "code",
   "execution_count": 8,
   "id": "982aea4e",
   "metadata": {},
   "outputs": [
    {
     "name": "stdout",
     "output_type": "stream",
     "text": [
      "[53729, 88062, 1147, 55954, 100042, 54080, 107736, 81080, 85020, 24252]\n"
     ]
    }
   ],
   "source": [
    "results = qsharp.run(\"Main()\", shots=10)\n",
    "print(results)"
   ]
  }
 ],
 "metadata": {
  "kernelspec": {
   "display_name": "qsharp-learning",
   "language": "python",
   "name": "python3"
  },
  "language_info": {
   "codemirror_mode": {
    "name": "ipython",
    "version": 3
   },
   "file_extension": ".py",
   "mimetype": "text/x-python",
   "name": "python",
   "nbconvert_exporter": "python",
   "pygments_lexer": "ipython3",
   "version": "3.12.3"
  }
 },
 "nbformat": 4,
 "nbformat_minor": 5
}
