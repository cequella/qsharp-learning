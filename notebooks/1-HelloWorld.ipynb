{
 "cells": [
  {
   "cell_type": "markdown",
   "id": "3dbe46a4",
   "metadata": {},
   "source": [
    "# Hello World"
   ]
  },
  {
   "cell_type": "markdown",
   "id": "8588b3f0",
   "metadata": {},
   "source": [
    "This text is just an introduction to Q# language.\n",
    "\n",
    "For this project, I used Visual Studio Code with the QDK extension installed, and Jupyter. Everything is running on Windows 11 with an Python Virtual Environment.\n",
    "\n",
    "Let's start initialize python dependencies"
   ]
  },
  {
   "cell_type": "markdown",
   "id": "809951d2",
   "metadata": {},
   "source": [
    "## Installing dependencies"
   ]
  },
  {
   "cell_type": "markdown",
   "id": "0cc5a339",
   "metadata": {},
   "source": [
    "With **Python3** intalled (and **virtual env** already installed through pip), use the following command to install the Q# dependencies:\n",
    "\n",
    "```bash\n",
    "virtualenv .                              # To create a virtual environment running Python 3\n",
    "Script/activate                           # To activate the virtual environment\n",
    "python -m pip install -r requirements.txt # To install the all dependencies\n",
    "```"
   ]
  },
  {
   "cell_type": "markdown",
   "id": "9ae76c7b",
   "metadata": {},
   "source": [
    "## Quick Start"
   ]
  },
  {
   "cell_type": "markdown",
   "id": "7077581a",
   "metadata": {},
   "source": [
    "First of all, let's create a simple Q# program that creates two qubits, puts the first one in superposition, and entangles the second one with the first one.\n",
    "\n",
    "But first, let's import necessary libraries:"
   ]
  },
  {
   "cell_type": "code",
   "execution_count": 3,
   "id": "d3f69cd1",
   "metadata": {},
   "outputs": [],
   "source": [
    "# Import the necessary libraries\n",
    "\n",
    "import qsharp"
   ]
  },
  {
   "cell_type": "markdown",
   "id": "e081d68f",
   "metadata": {},
   "source": [
    "Now, we create 2 qubits. \n",
    "\n",
    "The first one will be put in superposition using Hadamar gate. This way, q1 should assume values |0> and |1> with equal probability.\n",
    "\n",
    "Then we entangle the second qubit with the first one using CNOT gate.\n",
    "\n",
    "Early, q2 was initialized with |0>, but after the entanglement, it will be correlated with q1 state.\n",
    "\n",
    "We can see the state of the qubits using `DumpMachine()`.\n",
    "\n",
    "This will print the state of the quantum machine, showing the qubits and their states.\n",
    "\n",
    "So, this way, whenever the wave function of the first qubit is collapsed, the value measured is similar for the second one."
   ]
  },
  {
   "cell_type": "code",
   "execution_count": null,
   "id": "85c1180c",
   "metadata": {
    "vscode": {
     "languageId": "qsharp"
    }
   },
   "outputs": [
    {
     "data": {
      "text/markdown": [
       "<table class=\"qs-stateTable\">\n",
       "  <style>\n",
       "    .qs-stateTable thead tr {\n",
       "      background-color: var(\n",
       "        --vscode-list-hoverBackground,\n",
       "        var(--jp-layout-color1, inherit)\n",
       "      );\n",
       "    }\n",
       "    .qs-stateTable th {\n",
       "      text-align: left;\n",
       "      border: none;\n",
       "    }\n",
       "    .qs-stateTable tbody {\n",
       "      pointer-events: none;\n",
       "    }\n",
       "    .qs-stateTable tbody td {\n",
       "      text-align: left;\n",
       "      border: none;\n",
       "    }\n",
       "    .qs-stateTable tbody td span {\n",
       "      display: inline-block;\n",
       "    }\n",
       "    .qs-stateTable tbody tr:nth-child(even) {\n",
       "      background-color: var(\n",
       "        --vscode-list-hoverBackground,\n",
       "        var(--jp-layout-color1, inherit)\n",
       "      );\n",
       "    }\n",
       "  </style>\n",
       "  <thead>\n",
       "    <tr>\n",
       "      <th>Basis State<br />(|𝜓₁…𝜓ₙ⟩)</th>\n",
       "      <th>Amplitude</th>\n",
       "      <th>Measurement Probability</th>\n",
       "      <th colspan=\"2\">Phase</th>\n",
       "    </tr>\n",
       "  </thead>\n",
       "  <tbody>\n",
       "    <tr>\n",
       "  <td>\n",
       "    <span>|00⟩</span>\n",
       "  </td>\n",
       "  <td>\n",
       "    <span>0.7071+0.0000𝑖</span>\n",
       "  </td>\n",
       "  <td>\n",
       "    <progress max=\"100\" value=\"50.000000000000014\"></progress>\n",
       "    <span>50.0000%</span>\n",
       "  </td>\n",
       "  <td style=\"transform: rotate(0.0000rad)\">↑</td>\n",
       "  <td>\n",
       "    <span>0.0000</span>\n",
       "  </td>\n",
       "</tr>\n",
       "<tr>\n",
       "  <td>\n",
       "    <span>|11⟩</span>\n",
       "  </td>\n",
       "  <td>\n",
       "    <span>0.7071+0.0000𝑖</span>\n",
       "  </td>\n",
       "  <td>\n",
       "    <progress max=\"100\" value=\"50.000000000000014\"></progress>\n",
       "    <span>50.0000%</span>\n",
       "  </td>\n",
       "  <td style=\"transform: rotate(0.0000rad)\">↑</td>\n",
       "  <td>\n",
       "    <span>0.0000</span>\n",
       "  </td>\n",
       "</tr>\n",
       "\n",
       "  </tbody>\n",
       "</table>\n",
       "\n",
       "\n",
       "$|\\psi\\rangle = \\frac{\\sqrt{2}}{2}|00\\rangle+\\frac{\\sqrt{2}}{2}|11\\rangle$"
      ],
      "text/plain": [
       "STATE:\n",
       "|00⟩: 0.7071+0.0000𝑖\n",
       "|11⟩: 0.7071+0.0000𝑖"
      ]
     },
     "metadata": {},
     "output_type": "display_data"
    },
    {
     "data": {},
     "metadata": {},
     "output_type": "display_data"
    }
   ],
   "source": [
    "%%qsharp\n",
    "\n",
    "import Std.Diagnostics.DumpMachine;\n",
    "operation Main(): Unit {\n",
    "\tuse (q1, q2) = (Qubit(), Qubit()); // Declared 2 qubits intialized with |0>\n",
    "\tH(q1);                             // Put the first qubit in superposition, but second qubit remains in |0>\n",
    "\tCNOT(q1, q2);                      // Entangle the qubits. Now, the second qubit is in a superposition of |0> and |1> depending on the state of the first qubit.\n",
    "\n",
    "\t// With two qubit not entagled, we should see 4 states in the output (|00>, |01>, |10> and |11>).\n",
    "\t// But after entangling, we should see only 2 states in the output.\n",
    "\t// The first qubit is in superposition, and the second qubit is dependent on the first.\n",
    "\tDumpMachine();\n",
    "\n",
    "\tResetAll([q1, q2]);\t\n",
    "}\n",
    "\n",
    "Main();"
   ]
  }
 ],
 "metadata": {
  "kernelspec": {
   "display_name": "qsharp-learning",
   "language": "python",
   "name": "python3"
  },
  "language_info": {
   "codemirror_mode": {
    "name": "ipython",
    "version": 3
   },
   "file_extension": ".py",
   "mimetype": "text/x-python",
   "name": "python",
   "nbconvert_exporter": "python",
   "pygments_lexer": "ipython3",
   "version": "3.12.3"
  }
 },
 "nbformat": 4,
 "nbformat_minor": 5
}
